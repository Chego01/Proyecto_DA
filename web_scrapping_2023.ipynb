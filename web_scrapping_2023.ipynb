{
 "cells": [
  {
   "cell_type": "code",
   "execution_count": 1,
   "metadata": {},
   "outputs": [],
   "source": [
    "import requests\n",
    "from bs4 import BeautifulSoup"
   ]
  },
  {
   "cell_type": "code",
   "execution_count": 2,
   "metadata": {},
   "outputs": [],
   "source": [
    "# Define la URL de la página web\n",
    "url_pagina = \"https://data.buenosaires.gob.ar/dataset/seguridad-vial-autopistas-ausa\"\n",
    "\n",
    "# Realiza la solicitud HTTP y obtiene el contenido de la página web\n",
    "response = requests.get(url_pagina)\n",
    "\n",
    "# Analiza el contenido HTML de la página web\n",
    "soup = BeautifulSoup(response.content, 'html.parser')\n",
    "\n",
    "# Busca el enlace al archivo XLSX en el HTML de la página web\n",
    "enlace_xlsx = soup.find('a', href=lambda href: href and href.endswith('.xlsx'))"
   ]
  },
  {
   "cell_type": "code",
   "execution_count": 3,
   "metadata": {},
   "outputs": [
    {
     "name": "stdout",
     "output_type": "stream",
     "text": [
      "El archivo XLSX se ha descargado correctamente.\n"
     ]
    }
   ],
   "source": [
    "if enlace_xlsx:\n",
    "    # Obtiene la URL del archivo XLSX\n",
    "    url_xlsx = enlace_xlsx['href']\n",
    "\n",
    "    # Descarga el archivo XLSX\n",
    "    response_xlsx = requests.get(url_xlsx)\n",
    "    \n",
    "    # Especifica la ruta donde deseas guardar el archivo descargado\n",
    "    ruta_destino = \"siniestros_2023.xlsx\"\n",
    "\n",
    "    with open(ruta_destino, 'wb') as f:\n",
    "        f.write(response_xlsx.content)\n",
    "    \n",
    "    # Muestra un mensaje de éxito\n",
    "    print(\"El archivo XLSX se ha descargado correctamente.\")\n",
    "else:\n",
    "    # Muestra un mensaje si no se encuentra el enlace al archivo XLSX\n",
    "    print(\"No se encontró ningún enlace al archivo XLSX en la página web.\")"
   ]
  }
 ],
 "metadata": {
  "kernelspec": {
   "display_name": "pida",
   "language": "python",
   "name": "python3"
  },
  "language_info": {
   "codemirror_mode": {
    "name": "ipython",
    "version": 3
   },
   "file_extension": ".py",
   "mimetype": "text/x-python",
   "name": "python",
   "nbconvert_exporter": "python",
   "pygments_lexer": "ipython3",
   "version": "3.11.3"
  }
 },
 "nbformat": 4,
 "nbformat_minor": 2
}
